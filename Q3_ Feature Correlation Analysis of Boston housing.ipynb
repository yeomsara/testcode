{
 "cells": [
  {
   "cell_type": "markdown",
   "metadata": {},
   "source": [
    "# Q3. Correlation Analysis of Boston housing"
   ]
  },
  {
   "cell_type": "markdown",
   "metadata": {},
   "source": [
    "#### 보스턴 지역의 지역별 집값에 영향을 미치는 요인을 정리한 데이터를 기반으로, \n",
    "#### 각 속성이 집 값에 미치는 영향을 분석해보려고 합니다. 아래 링크의 데이터 셋을\n",
    "#### 이용해서 보스턴의 집값에 영향을 미치는 Feature 들을 조합해서 각 지역의\n",
    "#### 집값(MEDV)을 예측하는 모델을 만들고, 해당 내용을 리포트로 작성해주세요.\n",
    "#### 데이터 탐색 과정, Feature 선정 과정, 예측 모형 학습과정 및 Evaluation 결과,\n",
    "#### 고려사항 등을 리포트에 포함시켜 주세요"
   ]
  },
  {
   "cell_type": "code",
   "execution_count": 25,
   "metadata": {},
   "outputs": [],
   "source": [
    "# Attribute Information:\n",
    "#1)  CRIM    - 자치시별 1인당 범죄율\n",
    "#2)  ZN      - 25000평방피트를 초과하는 거주지역의 비율\n",
    "#3)  INDUS   - 비소매상업지역이 점유하고 있는 토지의 비율\n",
    "#4)  CHAS    - 찰스강에 대한 더미변수(강의 경계에 위치한 경우는 1,아니면 0)\n",
    "#5)  NOX     - 10ppm당 농축 일산화질소\n",
    "#6)  RM      - 주택 1가구당 평균 방의개수\n",
    "#7)  AGE     - 1940년 이전에 건축된 소유주택의 비율\n",
    "#8)  DIS     - 5개의 보스턴 직업센터까지의 접근성 지수\n",
    "#9)  RAD     - 방사형 도로까지의 접근성 지수\n",
    "#10) TAX     - 10,000달러 당 재산세율\n",
    "#11) PTRATIO - 자치시(town)별 학생/교사 비율\n",
    "#12) B       - 1000(Bk - 0.63)^2 , bk는 자치시의 흑인의 비율을 뜻함\n",
    "#13) LSTAT   - 모집단의 하위계층의 비율(%)\n",
    "#14) MEDV    - 본인소유의 주택가격(중앙값) (단위:$1.000)"
   ]
  },
  {
   "cell_type": "code",
   "execution_count": 23,
   "metadata": {},
   "outputs": [
    {
     "name": "stdout",
     "output_type": "stream",
     "text": [
      "        CRIM    ZN  INDUS  CHAS    NOX     RM   AGE     DIS  RAD    TAX  \\\n",
      "0    0.00632  18.0   2.31   0.0  0.538  6.575  65.2  4.0900  1.0  296.0   \n",
      "1    0.02731   0.0   7.07   0.0  0.469  6.421  78.9  4.9671  2.0  242.0   \n",
      "2    0.02729   0.0   7.07   0.0  0.469  7.185  61.1  4.9671  2.0  242.0   \n",
      "3    0.03237   0.0   2.18   0.0  0.458  6.998  45.8  6.0622  3.0  222.0   \n",
      "4    0.06905   0.0   2.18   0.0  0.458  7.147  54.2  6.0622  3.0  222.0   \n",
      "..       ...   ...    ...   ...    ...    ...   ...     ...  ...    ...   \n",
      "501  0.06263   0.0  11.93   0.0  0.573  6.593  69.1  2.4786  1.0  273.0   \n",
      "502  0.04527   0.0  11.93   0.0  0.573  6.120  76.7  2.2875  1.0  273.0   \n",
      "503  0.06076   0.0  11.93   0.0  0.573  6.976  91.0  2.1675  1.0  273.0   \n",
      "504  0.10959   0.0  11.93   0.0  0.573  6.794  89.3  2.3889  1.0  273.0   \n",
      "505  0.04741   0.0  11.93   0.0  0.573  6.030  80.8  2.5050  1.0  273.0   \n",
      "\n",
      "     PTRATIO       B  LSTAT  MEDV  \n",
      "0       15.3  396.90   4.98  24.0  \n",
      "1       17.8  396.90   9.14  21.6  \n",
      "2       17.8  392.83   4.03  34.7  \n",
      "3       18.7  394.63   2.94  33.4  \n",
      "4       18.7  396.90   5.33  36.2  \n",
      "..       ...     ...    ...   ...  \n",
      "501     21.0  391.99   9.67  22.4  \n",
      "502     21.0  396.90   9.08  20.6  \n",
      "503     21.0  396.90   5.64  23.9  \n",
      "504     21.0  393.45   6.48  22.0  \n",
      "505     21.0  396.90   7.88  11.9  \n",
      "\n",
      "[506 rows x 14 columns]\n"
     ]
    }
   ],
   "source": [
    "from sklearn.datasets import load_boston\n",
    "from sklearn.model_selection import train_test_split\n",
    "import pandas as pd\n",
    "# x_train, x_test, y_train, y_test = train_test_split(dataset['data'], dataset['target'])\n",
    "\n",
    "boston = load_boston()\n",
    "housing_df = pd.DataFrame(boston.data, columns=boston.feature_names)\n",
    "housing_df['MEDV'] = boston['target']\n",
    "\n",
    "\n",
    "print(housing_df)\n"
   ]
  }
 ],
 "metadata": {
  "anaconda-cloud": {},
  "kernelspec": {
   "display_name": "Python 3",
   "language": "python",
   "name": "python3"
  },
  "language_info": {
   "codemirror_mode": {
    "name": "ipython",
    "version": 3
   },
   "file_extension": ".py",
   "mimetype": "text/x-python",
   "name": "python",
   "nbconvert_exporter": "python",
   "pygments_lexer": "ipython3",
   "version": "3.7.6"
  }
 },
 "nbformat": 4,
 "nbformat_minor": 1
}
